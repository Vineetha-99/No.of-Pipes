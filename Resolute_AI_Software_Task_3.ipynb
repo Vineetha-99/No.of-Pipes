{
  "nbformat": 4,
  "nbformat_minor": 0,
  "metadata": {
    "colab": {
      "name": "Resolute AI Software - Task 3.ipynb",
      "provenance": []
    },
    "kernelspec": {
      "name": "python3",
      "display_name": "Python 3"
    }
  },
  "cells": [
    {
      "cell_type": "markdown",
      "metadata": {
        "id": "v3B1CTnamE7i"
      },
      "source": [
        "# Task 3: (Computer Vision) - Count the number of pipes in the given image.\n"
      ]
    },
    {
      "cell_type": "code",
      "metadata": {
        "id": "LZzDBBpsLC6T"
      },
      "source": [
        "import cv2\n",
        "import numpy as np"
      ],
      "execution_count": 142,
      "outputs": []
    },
    {
      "cell_type": "code",
      "metadata": {
        "id": "ddqeCPakRdw2"
      },
      "source": [
        "img = cv2.imread('pipe.jpeg')\n",
        "greyImg = cv2.cvtColor(img, cv2.COLOR_BGR2GRAY)"
      ],
      "execution_count": 143,
      "outputs": []
    },
    {
      "cell_type": "code",
      "metadata": {
        "colab": {
          "base_uri": "https://localhost:8080/"
        },
        "id": "xsnnnFA8Urch",
        "outputId": "3ddfcd41-843d-43d0-f170-5d2d01647597"
      },
      "source": [
        "circles = cv2.HoughCircles(greyImg, cv2.HOUGH_GRADIENT, minDist=8, dp=1.0967, param1=150, param2=15, minRadius=18, maxRadius=21)\n",
        "out = img.copy()\n",
        "pipe=0\n",
        "for (x, y, rad) in circles[0, :, :]:\n",
        "  cv2.circle(out, (x, y), rad, (0, 255, 0), 3)\n",
        "  pipe = pipe + 1\n",
        "cv2.imwrite('outImg.jpg',np.hstack([out]),[cv2.IMWRITE_JPEG_QUALITY, 70])\n",
        "cv2.waitKey(0)"
      ],
      "execution_count": 144,
      "outputs": [
        {
          "output_type": "execute_result",
          "data": {
            "text/plain": [
              "-1"
            ]
          },
          "metadata": {
            "tags": []
          },
          "execution_count": 144
        }
      ]
    },
    {
      "cell_type": "code",
      "metadata": {
        "colab": {
          "base_uri": "https://localhost:8080/"
        },
        "id": "AupATxH-Ybxr",
        "outputId": "4d5c1839-70b3-4bfb-bd49-dbce95c2981b"
      },
      "source": [
        "print(\"Total number of Pipes in the image are :\",pipe)"
      ],
      "execution_count": 145,
      "outputs": [
        {
          "output_type": "stream",
          "text": [
            "Total number of Pipes in the image are : 90\n"
          ],
          "name": "stdout"
        }
      ]
    }
  ]
}